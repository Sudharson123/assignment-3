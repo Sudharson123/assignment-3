{
 "cells": [
  {
   "cell_type": "code",
   "execution_count": 15,
   "id": "c49a749e",
   "metadata": {},
   "outputs": [],
   "source": [
    "def strng(str):\n",
    "    lower_case=0\n",
    "    upper_case=0\n",
    "    for i in str:\n",
    "        a=ord(i)\n",
    "        if a in range(97,123):\n",
    "            lower_case+=1\n",
    "        elif a in range(65,96):\n",
    "            upper_case+=1\n",
    "    print(\"No of Lower case characters : {}\".format(lower_case))\n",
    "    print(\"No of Upper case characters : {}\".format(upper_case))\n",
    "          "
   ]
  },
  {
   "cell_type": "code",
   "execution_count": 16,
   "id": "46eab5c7",
   "metadata": {},
   "outputs": [
    {
     "name": "stdout",
     "output_type": "stream",
     "text": [
      "No of Lower case characters : 12\n",
      "No of Upper case characters : 3\n"
     ]
    }
   ],
   "source": [
    "strng('The quick Brow Fox ')"
   ]
  },
  {
   "cell_type": "code",
   "execution_count": null,
   "id": "dba8b2b2",
   "metadata": {},
   "outputs": [],
   "source": []
  }
 ],
 "metadata": {
  "kernelspec": {
   "display_name": "Python 3 (ipykernel)",
   "language": "python",
   "name": "python3"
  },
  "language_info": {
   "codemirror_mode": {
    "name": "ipython",
    "version": 3
   },
   "file_extension": ".py",
   "mimetype": "text/x-python",
   "name": "python",
   "nbconvert_exporter": "python",
   "pygments_lexer": "ipython3",
   "version": "3.9.5"
  }
 },
 "nbformat": 4,
 "nbformat_minor": 5
}
