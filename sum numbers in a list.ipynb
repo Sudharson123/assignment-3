{
 "cells": [
  {
   "cell_type": "code",
   "execution_count": 24,
   "id": "11b58034",
   "metadata": {},
   "outputs": [],
   "source": [
    "def _sum_(list1):\n",
    "    total=0\n",
    "    for i in list1:\n",
    "        total+=i\n",
    "    return total\n",
    "\n"
   ]
  },
  {
   "cell_type": "code",
   "execution_count": 26,
   "id": "641c2ff3",
   "metadata": {},
   "outputs": [
    {
     "data": {
      "text/plain": [
       "20"
      ]
     },
     "execution_count": 26,
     "metadata": {},
     "output_type": "execute_result"
    }
   ],
   "source": [
    "_sum_( (8, 2, 3, 0, 7))"
   ]
  },
  {
   "cell_type": "code",
   "execution_count": null,
   "id": "0958a5bf",
   "metadata": {},
   "outputs": [],
   "source": []
  }
 ],
 "metadata": {
  "kernelspec": {
   "display_name": "Python 3 (ipykernel)",
   "language": "python",
   "name": "python3"
  },
  "language_info": {
   "codemirror_mode": {
    "name": "ipython",
    "version": 3
   },
   "file_extension": ".py",
   "mimetype": "text/x-python",
   "name": "python",
   "nbconvert_exporter": "python",
   "pygments_lexer": "ipython3",
   "version": "3.9.5"
  }
 },
 "nbformat": 4,
 "nbformat_minor": 5
}
