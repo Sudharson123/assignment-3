{
 "cells": [
  {
   "cell_type": "code",
   "execution_count": 1,
   "id": "6c73f529",
   "metadata": {},
   "outputs": [],
   "source": [
    "def string_(str):\n",
    "    return str[::-1]"
   ]
  },
  {
   "cell_type": "code",
   "execution_count": 2,
   "id": "af8d684a",
   "metadata": {},
   "outputs": [
    {
     "data": {
      "text/plain": [
       "'dcba4321'"
      ]
     },
     "execution_count": 2,
     "metadata": {},
     "output_type": "execute_result"
    }
   ],
   "source": [
    "string_('1234abcd')"
   ]
  },
  {
   "cell_type": "code",
   "execution_count": null,
   "id": "9695c31d",
   "metadata": {},
   "outputs": [],
   "source": []
  }
 ],
 "metadata": {
  "kernelspec": {
   "display_name": "Python 3 (ipykernel)",
   "language": "python",
   "name": "python3"
  },
  "language_info": {
   "codemirror_mode": {
    "name": "ipython",
    "version": 3
   },
   "file_extension": ".py",
   "mimetype": "text/x-python",
   "name": "python",
   "nbconvert_exporter": "python",
   "pygments_lexer": "ipython3",
   "version": "3.9.5"
  }
 },
 "nbformat": 4,
 "nbformat_minor": 5
}
